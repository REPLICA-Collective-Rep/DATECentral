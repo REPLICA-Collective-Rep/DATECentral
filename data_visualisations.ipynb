{
 "metadata": {
  "language_info": {
   "codemirror_mode": {
    "name": "ipython",
    "version": 3
   },
   "file_extension": ".py",
   "mimetype": "text/x-python",
   "name": "python",
   "nbconvert_exporter": "python",
   "pygments_lexer": "ipython3",
   "version": "3.6.9-final"
  },
  "orig_nbformat": 2,
  "kernelspec": {
   "name": "python38064bitf39bc6102ff04b0fae4fb96ec69e2b2f",
   "display_name": "Python 3.8.0 64-bit",
   "language": "python"
  }
 },
 "nbformat": 4,
 "nbformat_minor": 2,
 "cells": [
  {
   "cell_type": "code",
   "execution_count": 1,
   "metadata": {},
   "outputs": [
    {
     "output_type": "stream",
     "name": "stderr",
     "text": [
      "/home/meredityman/.local/lib/python3.6/site-packages/ipykernel_launcher.py:15: UserWarning: Style includes a parameter, 'backend', that is not related to style.  Ignoring\n  from ipykernel import kernelapp as app\n"
     ]
    }
   ],
   "source": [
    "import sys \n",
    "import numpy as np\n",
    "import os\n",
    "\n",
    "from dataserver import FileServer\n",
    "\n",
    "from pathlib import Path, PurePath\n",
    "import numpy as np\n",
    "from math import ceil\n",
    "\n",
    "\n",
    "#%matplotlib inline\n",
    "import matplotlib.pyplot as plt\n",
    "from matplotlib.ticker import FormatStrFormatter\n",
    "plt.style.use('figures/date.mplstyle')\n"
   ]
  },
  {
   "cell_type": "code",
   "execution_count": 2,
   "metadata": {},
   "outputs": [],
   "source": [
    "%load_ext autoreload\n",
    "%autoreload 2"
   ]
  },
  {
   "cell_type": "code",
   "execution_count": 3,
   "metadata": {
    "tags": []
   },
   "outputs": [
    {
     "output_type": "stream",
     "name": "stdout",
     "text": [
      "{'index': 0, 'suit': 4, 'session': '2020-11-12-09-36-01-591', 'samples': 404768, 'time': '4:29:50.720000'}\n",
      "{'index': 1, 'suit': 5, 'session': '2020-11-12-09-36-01-591', 'samples': 420336, 'time': '4:40:13.440000'}\n",
      "{'index': 2, 'suit': 1, 'session': '2020-11-12-09-36-01-591', 'samples': 266880, 'time': '2:57:55.200000'}\n",
      "{'index': 3, 'suit': 3, 'session': '2020-11-12-09-36-01-591', 'samples': 393648, 'time': '4:22:25.920000'}\n",
      "{'index': 4, 'suit': 4, 'session': '2020-11-10-08-54-03-947', 'samples': 236856, 'time': '2:37:54.240000'}\n",
      "{'index': 5, 'suit': 1, 'session': '2020-11-10-08-54-03-947', 'samples': 282448, 'time': '3:08:17.920000'}\n",
      "{'index': 6, 'suit': 5, 'session': '2020-11-10-08-54-03-947', 'samples': 264656, 'time': '2:56:26.240000'}\n",
      "{'index': 7, 'suit': 3, 'session': '2020-11-10-08-54-03-947', 'samples': 296904, 'time': '3:17:56.160000'}\n",
      "{'index': 8, 'suit': 2, 'session': '2020-11-10-08-54-03-947', 'samples': 40032, 'time': '0:26:41.280000'}\n",
      "{'index': 9, 'suit': 6, 'session': '2020-11-10-08-54-03-947', 'samples': 295792, 'time': '3:17:11.680000'}\n",
      "Loaded: 10 Sessions\n"
     ]
    }
   ],
   "source": [
    "names = [   \n",
    "    \"2020-11-12-09-36-01-591\",\n",
    "    \"2020-11-10-08-54-03-947\"\n",
    "]\n",
    "\n",
    "ch_names = [\n",
    "    \"R Shoulder\",\n",
    "    \"R Knee\",\n",
    "    \"R Foot\",\n",
    "    \"R Elbow\",\n",
    "    \"L Elbow\",\n",
    "    \"L Foot\",\n",
    "    \"L Knee\",\n",
    "    \"L Shoulder\"\n",
    "]\n",
    "\n",
    "session_dirs = [ os.path.join(\"data/good\", f) for f in names ]\n",
    "\n",
    "dataserver = FileServer( session_dirs = session_dirs)"
   ]
  },
  {
   "cell_type": "code",
   "execution_count": 3,
   "metadata": {
    "tags": []
   },
   "outputs": [],
   "source": [
    "\n"
   ]
  },
  {
   "cell_type": "code",
   "execution_count": 4,
   "metadata": {
    "tags": []
   },
   "outputs": [
    {
     "output_type": "error",
     "ename": "NameError",
     "evalue": "name 'output_dir' is not defined",
     "traceback": [
      "\u001b[0;31m---------------------------------------------------------------------------\u001b[0m",
      "\u001b[0;31mNameError\u001b[0m                                 Traceback (most recent call last)",
      "\u001b[0;32m<ipython-input-4-a5e7a6f54e0f>\u001b[0m in \u001b[0;36m<module>\u001b[0;34m\u001b[0m\n\u001b[1;32m      1\u001b[0m \u001b[0;32mfor\u001b[0m \u001b[0mindex\u001b[0m\u001b[0;34m,\u001b[0m \u001b[0msequence\u001b[0m \u001b[0;32min\u001b[0m \u001b[0mdataserver\u001b[0m\u001b[0;34m.\u001b[0m\u001b[0mdata\u001b[0m\u001b[0;34m.\u001b[0m\u001b[0mitems\u001b[0m\u001b[0;34m(\u001b[0m\u001b[0;34m)\u001b[0m\u001b[0;34m:\u001b[0m\u001b[0;34m\u001b[0m\u001b[0;34m\u001b[0m\u001b[0m\n\u001b[1;32m      2\u001b[0m \u001b[0;34m\u001b[0m\u001b[0m\n\u001b[0;32m----> 3\u001b[0;31m     \u001b[0mframe_dir\u001b[0m \u001b[0;34m=\u001b[0m \u001b[0mPath\u001b[0m\u001b[0;34m(\u001b[0m\u001b[0moutput_dir\u001b[0m\u001b[0;34m.\u001b[0m\u001b[0mjoinpath\u001b[0m\u001b[0;34m(\u001b[0m\u001b[0;34mf\"frames_{index}\"\u001b[0m\u001b[0;34m)\u001b[0m\u001b[0;34m)\u001b[0m\u001b[0;34m\u001b[0m\u001b[0;34m\u001b[0m\u001b[0m\n\u001b[0m\u001b[1;32m      4\u001b[0m     \u001b[0mframe_dir\u001b[0m\u001b[0;34m.\u001b[0m\u001b[0mmkdir\u001b[0m\u001b[0;34m(\u001b[0m\u001b[0mparents\u001b[0m \u001b[0;34m=\u001b[0m \u001b[0;32mTrue\u001b[0m\u001b[0;34m,\u001b[0m \u001b[0mexist_ok\u001b[0m \u001b[0;34m=\u001b[0m \u001b[0;32mTrue\u001b[0m\u001b[0;34m)\u001b[0m\u001b[0;34m\u001b[0m\u001b[0;34m\u001b[0m\u001b[0m\n\u001b[1;32m      5\u001b[0m \u001b[0;34m\u001b[0m\u001b[0m\n",
      "\u001b[0;31mNameError\u001b[0m: name 'output_dir' is not defined"
     ]
    }
   ],
   "source": [
    "\n",
    "for index, sequence in dataserver.data.items():\n",
    "\n",
    "    frame_dir = Path(output_dir.joinpath(f\"frames_{index}\"))\n",
    "    frame_dir.mkdir(parents = True, exist_ok = True)\n",
    "\n",
    "    srt = 0\n",
    "    end = srt + WINDOW\n",
    "    frame_num = 0\n",
    "\n",
    "    while( end < len(sequence)):\n",
    "        print(f\"{index} | ({srt} - {end})\")\n",
    "        plt.close()\n",
    "        fig, axs = plt.subplots(8, 1, figsize=SIZE, dpi=DPI)\n",
    "\n",
    "        xaxis = np.arange(srt * TIME_CONVERSION, end * TIME_CONVERSION, TIME_CONVERSION)\n",
    "\n",
    "        for ch in range(8):\n",
    "            try:\n",
    "                data = sequence[srt:end,ch]\n",
    "\n",
    "                \n",
    "            except Exception as e:\n",
    "                print(e)\n",
    "                break\n",
    " \n",
    "            axs[ch].set_ylim(-0.1, 1.1) \n",
    "            axs[ch].set_yticks([0.0, 1.0])\n",
    "\n",
    "            axs[ch].set_xlim(xaxis[0], xaxis[-1]) \n",
    "\n",
    "            if(ch == 7):\n",
    "                pass\n",
    "            else:\n",
    "                axs[ch].set_xticklabels([])\n",
    "\n",
    "            axs[ch].set_ylabel(ch_names[ch], rotation=0, labelpad=40, fontsize='large') \n",
    "\n",
    "\n",
    "            axs[ch].plot(\n",
    "                xaxis[:WINDOW], \n",
    "                data, \n",
    "                linewidth = 2.5 \n",
    "            )\n",
    "            rec_ax._get_lines.get_next_color()\n",
    "\n",
    "\n",
    "        plt.savefig(PurePath(frame_dir, f\"frame_{frame_num}.png\"))\n",
    "\n",
    "        srt += STEP\n",
    "        end += STEP\n",
    "        frame_num += 1\n",
    "\n"
   ]
  },
  {
   "cell_type": "code",
   "execution_count": null,
   "metadata": {},
   "outputs": [],
   "source": []
  }
 ]
}