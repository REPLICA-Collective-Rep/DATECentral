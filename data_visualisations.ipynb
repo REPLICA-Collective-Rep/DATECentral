{
 "metadata": {
  "language_info": {
   "codemirror_mode": {
    "name": "ipython",
    "version": 3
   },
   "file_extension": ".py",
   "mimetype": "text/x-python",
   "name": "python",
   "nbconvert_exporter": "python",
   "pygments_lexer": "ipython3",
   "version": "3.6.9-final"
  },
  "orig_nbformat": 2,
  "kernelspec": {
   "name": "python38064bitf39bc6102ff04b0fae4fb96ec69e2b2f",
   "display_name": "Python 3.8.0 64-bit",
   "language": "python"
  }
 },
 "nbformat": 4,
 "nbformat_minor": 2,
 "cells": [
  {
   "cell_type": "code",
   "execution_count": null,
   "metadata": {},
   "outputs": [],
   "source": [
    "import sys \n",
    "import numpy as np\n",
    "import os\n",
    "\n",
    "from dataserver import FileServer\n",
    "\n",
    "from pathlib import Path, PurePath\n",
    "import numpy as np\n",
    "from math import ceil\n",
    "\n",
    "\n",
    "#%matplotlib inline\n",
    "import matplotlib.pyplot as plt\n",
    "from matplotlib.ticker import FormatStrFormatter\n",
    "plt.style.use('figures/date.mplstyle')\n"
   ]
  },
  {
   "cell_type": "code",
   "execution_count": null,
   "metadata": {},
   "outputs": [],
   "source": [
    "%load_ext autoreload\n",
    "%autoreload 2"
   ]
  },
  {
   "cell_type": "code",
   "execution_count": null,
   "metadata": {
    "tags": []
   },
   "outputs": [],
   "source": [
    "names = [   \n",
    "    \"2020-11-12-09-36-01-591\",\n",
    "    \"2020-11-10-08-54-03-947\"\n",
    "]\n",
    "\n",
    "ch_names = [\n",
    "    \"R Shoulder\",\n",
    "    \"R Knee\",\n",
    "    \"R Foot\",\n",
    "    \"R Elbow\",\n",
    "    \"L Elbow\",\n",
    "    \"L Foot\",\n",
    "    \"L Knee\",\n",
    "    \"L Shoulder\"\n",
    "]\n",
    "\n",
    "session_dirs = [ os.path.join(\"data/good\", f) for f in names ]\n",
    "\n",
    "dataserver = FileServer( session_dirs = session_dirs)"
   ]
  },
  {
   "cell_type": "code",
   "execution_count": null,
   "metadata": {
    "tags": []
   },
   "outputs": [],
   "source": [
    "\n"
   ]
  },
  {
   "cell_type": "code",
   "execution_count": null,
   "metadata": {
    "tags": []
   },
   "outputs": [],
   "source": [
    "\n",
    "for index, sequence in dataserver.data.items():\n",
    "\n",
    "    frame_dir = Path(output_dir.joinpath(f\"frames_{index}\"))\n",
    "    frame_dir.mkdir(parents = True, exist_ok = True)\n",
    "\n",
    "    srt = 0\n",
    "    end = srt + WINDOW\n",
    "    frame_num = 0\n",
    "\n",
    "    while( end < len(sequence)):\n",
    "        print(f\"{index} | ({srt} - {end})\")\n",
    "        plt.close()\n",
    "        fig, axs = plt.subplots(8, 1, figsize=SIZE, dpi=DPI)\n",
    "\n",
    "        xaxis = np.arange(srt * TIME_CONVERSION, end * TIME_CONVERSION, TIME_CONVERSION)\n",
    "\n",
    "        for ch in range(8):\n",
    "            try:\n",
    "                data = sequence[srt:end,ch]\n",
    "\n",
    "                \n",
    "            except Exception as e:\n",
    "                print(e)\n",
    "                break\n",
    " \n",
    "            axs[ch].set_ylim(-0.1, 1.1) \n",
    "            axs[ch].set_yticks([0.0, 1.0])\n",
    "\n",
    "            axs[ch].set_xlim(xaxis[0], xaxis[-1]) \n",
    "\n",
    "            if(ch == 7):\n",
    "                pass\n",
    "            else:\n",
    "                axs[ch].set_xticklabels([])\n",
    "\n",
    "            axs[ch].set_ylabel(ch_names[ch], rotation=0, labelpad=40, fontsize='large') \n",
    "\n",
    "\n",
    "            axs[ch].plot(\n",
    "                xaxis[:WINDOW], \n",
    "                data, \n",
    "                linewidth = 2.5 \n",
    "            )\n",
    "            rec_ax._get_lines.get_next_color()\n",
    "\n",
    "\n",
    "        plt.savefig(PurePath(frame_dir, f\"frame_{frame_num}.png\"))\n",
    "\n",
    "        srt += STEP\n",
    "        end += STEP\n",
    "        frame_num += 1\n",
    "\n"
   ]
  },
  {
   "cell_type": "code",
   "execution_count": null,
   "metadata": {},
   "outputs": [],
   "source": []
  }
 ]
}