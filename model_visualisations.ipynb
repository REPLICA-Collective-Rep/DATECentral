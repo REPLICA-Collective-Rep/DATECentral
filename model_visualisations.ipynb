{
 "metadata": {
  "language_info": {
   "codemirror_mode": {
    "name": "ipython",
    "version": 3
   },
   "file_extension": ".py",
   "mimetype": "text/x-python",
   "name": "python",
   "nbconvert_exporter": "python",
   "pygments_lexer": "ipython3",
   "version": "3.8.0-final"
  },
  "orig_nbformat": 2,
  "kernelspec": {
   "name": "python38064bitf39bc6102ff04b0fae4fb96ec69e2b2f",
   "display_name": "Python 3.8.0 64-bit",
   "language": "python"
  }
 },
 "nbformat": 4,
 "nbformat_minor": 2,
 "cells": [
  {
   "cell_type": "code",
   "execution_count": 3,
   "metadata": {},
   "outputs": [],
   "source": [
    "import numpy as np\n",
    "import os\n",
    "\n",
    "import dataserver as ds\n",
    "from  model import Model\n",
    "\n"
   ]
  },
  {
   "cell_type": "code",
   "execution_count": 1,
   "metadata": {},
   "outputs": [],
   "source": [
    "%load_ext autoreload\n",
    "%autoreload 2\n"
   ]
  },
  {
   "cell_type": "code",
   "execution_count": null,
   "metadata": {},
   "outputs": [],
   "source": [
    "SEQ_LEN      = 64\n",
    "N_FEATURES   = 8\n",
    "Z_DIM        = 32\n",
    "\n",
    "dataroot  = \"data/session_2\"\n",
    "modelroot = \"models/session_2r\"\n",
    "suits     = [1]\n",
    "sources   = \"load\"\n",
    "\n",
    "dataserver = ds.Dataserver(SEQ_LEN , N_FEATURES, suits, sources, dataroot = dataroot)\n",
    "\n",
    "model = Model(suits[0], SEQ_LEN , N_FEATURES, Z_DIM, modelroot, None)\n",
    "model.load(modelroot)\n"
   ]
  },
  {
   "cell_type": "code",
   "execution_count": null,
   "metadata": {
    "tags": [
     "outputPrepend"
    ]
   },
   "outputs": [],
   "source": [
    "encodings = []\n",
    "i = 0\n",
    "while i < (dataserver.get_size(suits[0]) - SEQ_LEN):\n",
    "    print(f\"Loop {i}\")\n",
    "\n",
    "    sample = dataserver.get_sequence(suits[0], i, SEQ_LEN)\n",
    "    sample = sample.reshape((SEQ_LEN, 1, N_FEATURES))\n",
    "\n",
    "    encoding = model.get_latents(sample)\n",
    "    encoding = encoding.squeeze()\n",
    "\n",
    "    encodings.append(encoding)\n",
    "\n",
    "    i += SEQ_LEN\n",
    "\n",
    "encodings = np.stack(encodings, axis = 0)"
   ]
  },
  {
   "cell_type": "code",
   "execution_count": null,
   "metadata": {},
   "outputs": [],
   "source": [
    "from PIL import Image, ImageColor\n",
    "from IPython.display import display\n",
    "from scipy.special import softmax\n",
    "import math\n",
    "\n",
    "print(encodings.shape)\n",
    "\n",
    "print( np.min(encodings), np.max(encodings))\n",
    "\n",
    "\n",
    "def sigmoid(x):\n",
    "  return 1 / (1 + np.exp(-x))\n",
    "\n",
    "image = sigmoid(encodings)\n",
    "#\n",
    "std    = np.std(image, axis=0)\n",
    "mean   = np.mean(image, axis=0)\n"
   ]
  },
  {
   "cell_type": "code",
   "execution_count": null,
   "metadata": {},
   "outputs": [],
   "source": [
    "\n",
    "# colors = [ \n",
    "#         \"#47b1b9\",\n",
    "#         \"#499dbb\",\n",
    "#         \"#4a8abd\",\n",
    "#         \"#4c76be\",\n",
    "#         \"#4e62c0\",\n",
    "#         \"#504fc1\",\n",
    "#         \"#6751c3\",\n",
    "#         \"#7e52c5\"]\n",
    "\n",
    "colbase = np.array([\n",
    "    ImageColor.getcolor(\"#47b1b9\", \"HSV\"),\n",
    "    ImageColor.getcolor(\"#499dbb\", \"HSV\"),\n",
    "    ImageColor.getcolor(\"#4a8abd\", \"HSV\"),\n",
    "    ImageColor.getcolor(\"#4c76be\", \"HSV\"),\n",
    "    ImageColor.getcolor(\"#4e62c0\", \"HSV\"),\n",
    "    ImageColor.getcolor(\"#504fc1\", \"HSV\"),\n",
    "    ImageColor.getcolor(\"#6751c3\", \"HSV\"),\n",
    "    ImageColor.getcolor(\"#7e52c5\", \"HSV\")\n",
    "])\n",
    "\n",
    "\n",
    "def lerp(t, x, y):\n",
    "    return x + (y - x ) * t\n",
    " \n",
    "\n",
    "\n",
    "v = image.reshape((image.shape[0], image.shape[1], 1))\n",
    "s = std.repeat(encodings.shape[0]).reshape((encodings.shape[0], encodings.shape[1], 1) ,  order='F')\n",
    "h = mean.repeat(encodings.shape[0]).reshape((encodings.shape[0], encodings.shape[1], 1),  order='F')\n",
    "\n",
    "h = lerp(h, 0.0, 1.0)\n",
    "s = lerp(s, 0.0, 0.0)\n",
    "v = lerp(v, 0.0, 1.0)\n",
    "\n",
    "\n",
    "img = np.concatenate((h,s,v), axis=-1)\n",
    "img = np.clip((img * 255).astype(np.uint8),0,255)\n",
    "\n",
    "img = Image.fromarray(img, mode=\"HSV\" ).convert(\"RGB\")\n",
    "img = img.rotate(90, expand=True)\n",
    "img = img.resize([1920 * 2, 1080], resample=Image.NEAREST)\n",
    "img.save(\"figures/encodings_2.jpg\")\n",
    "\n",
    "display(img)"
   ]
  }
 ]
}