{
 "metadata": {
  "language_info": {
   "codemirror_mode": {
    "name": "ipython",
    "version": 3
   },
   "file_extension": ".py",
   "mimetype": "text/x-python",
   "name": "python",
   "nbconvert_exporter": "python",
   "pygments_lexer": "ipython3",
   "version": "3.6.9-final"
  },
  "orig_nbformat": 2,
  "kernelspec": {
   "name": "python38064bitf39bc6102ff04b0fae4fb96ec69e2b2f",
   "display_name": "Python 3.8.0 64-bit",
   "language": "python"
  }
 },
 "nbformat": 4,
 "nbformat_minor": 2,
 "cells": [
  {
   "cell_type": "code",
   "execution_count": 12,
   "metadata": {},
   "outputs": [],
   "source": [
    "import sys \n",
    "import numpy as np\n",
    "from pathlib import Path, PurePath\n",
    "from datetime import datetime\n",
    "import dataserver as ds"
   ]
  },
  {
   "cell_type": "code",
   "execution_count": 13,
   "metadata": {},
   "outputs": [
    {
     "output_type": "stream",
     "name": "stdout",
     "text": [
      "The autoreload extension is already loaded. To reload it, use:\n  %reload_ext autoreload\n"
     ]
    }
   ],
   "source": [
    "%load_ext autoreload\n",
    "%autoreload 2\n"
   ]
  },
  {
   "cell_type": "code",
   "execution_count": 14,
   "metadata": {},
   "outputs": [
    {
     "output_type": "stream",
     "name": "stdout",
     "text": [
      "2020-11-10-08-54-03-947\n",
      "{'index': 0, 'suit': 4, 'session': '2020-11-10-08-54-03-947', 'samples': 236856}\n",
      "{'index': 1, 'suit': 1, 'session': '2020-11-10-08-54-03-947', 'samples': 282448}\n",
      "{'index': 2, 'suit': 5, 'session': '2020-11-10-08-54-03-947', 'samples': 264656}\n",
      "{'index': 3, 'suit': 3, 'session': '2020-11-10-08-54-03-947', 'samples': 296904}\n",
      "{'index': 4, 'suit': 2, 'session': '2020-11-10-08-54-03-947', 'samples': 40032}\n",
      "{'index': 5, 'suit': 6, 'session': '2020-11-10-08-54-03-947', 'samples': 295792}\n",
      "Loaded: 6 Sessions\n",
      "2020-11-12-09-36-01-591\n",
      "{'index': 0, 'suit': 4, 'session': '2020-11-12-09-36-01-591', 'samples': 404768}\n",
      "{'index': 1, 'suit': 5, 'session': '2020-11-12-09-36-01-591', 'samples': 420336}\n",
      "{'index': 2, 'suit': 1, 'session': '2020-11-12-09-36-01-591', 'samples': 266880}\n",
      "{'index': 3, 'suit': 3, 'session': '2020-11-12-09-36-01-591', 'samples': 393648}\n",
      "{'index': 4, 'suit': 6, 'session': '2020-11-12-09-36-01-591', 'samples': 363624}\n",
      "Loaded: 5 Sessions\n"
     ]
    }
   ],
   "source": [
    "import shutil\n",
    "from dataserver import FileServer\n",
    "\n",
    "dataroot =  Path(\"./data/good\").resolve()\n",
    "\n",
    "\n",
    "for session_dir in  dataroot.glob(\"*/\"):\n",
    "    session = session_dir.stem\n",
    "    session_time = datetime.strptime(session[:-4], \"%Y-%m-%d-%H-%M-%S\")\n",
    "\n",
    "    num_files = len(list(session_dir.glob(\"*.npy\")))\n",
    "\n",
    "    if(num_files < 100):\n",
    "        print(f\"Removing:  {session}\\t{num_files}\")\n",
    "        shutil.rmtree(session_dir.resolve())\n",
    "        continue\n",
    "    \n",
    "    print(f\"{session}\")\n",
    "    dataserver = FileServer( session_dirs = [session_dir.resolve()])\n",
    "    \n"
   ]
  },
  {
   "cell_type": "code",
   "execution_count": null,
   "metadata": {},
   "outputs": [],
   "source": []
  }
 ]
}