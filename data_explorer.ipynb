{
 "metadata": {
  "language_info": {
   "codemirror_mode": {
    "name": "ipython",
    "version": 3
   },
   "file_extension": ".py",
   "mimetype": "text/x-python",
   "name": "python",
   "nbconvert_exporter": "python",
   "pygments_lexer": "ipython3",
   "version": "3.8.0-final"
  },
  "orig_nbformat": 2,
  "kernelspec": {
   "name": "python38064bitf39bc6102ff04b0fae4fb96ec69e2b2f",
   "display_name": "Python 3.8.0 64-bit",
   "language": "python"
  }
 },
 "nbformat": 4,
 "nbformat_minor": 2,
 "cells": [
  {
   "cell_type": "code",
   "execution_count": null,
   "metadata": {},
   "outputs": [],
   "source": [
    "import sys \n",
    "import numpy as np\n",
    "from pathlib import Path, PurePath\n",
    "from datetime import datetime\n",
    "import dataserver as ds"
   ]
  },
  {
   "cell_type": "code",
   "execution_count": null,
   "metadata": {},
   "outputs": [],
   "source": [
    "%load_ext autoreload\n",
    "%autoreload 1\n",
    "%aimport dataserver"
   ]
  },
  {
   "cell_type": "code",
   "execution_count": null,
   "metadata": {},
   "outputs": [],
   "source": [
    "import shutil\n",
    "\n",
    "dataroot =  Path(\"./data/good\").resolve()\n",
    "\n",
    "\n",
    "for session_dir in  dataroot.glob(\"*/\"):\n",
    "    session = session_dir.stem\n",
    "    session_time = datetime.strptime(session[:-4], \"%Y-%m-%d-%H-%M-%S\")\n",
    "\n",
    "\n",
    "    num_files = len(list(session_dir.glob(\"*.npy\")))\n",
    "\n",
    "    if(num_files < 100):\n",
    "        print(f\"Removing:  {session}\\t{num_files}\")\n",
    "\n",
    "        shutil.rmtree(session_dir.resolve())\n",
    "\n",
    "print(\"End\")\n"
   ]
  }
 ]
}